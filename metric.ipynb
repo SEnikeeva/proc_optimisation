{
 "cells": [
  {
   "cell_type": "code",
   "execution_count": 1,
   "id": "1d6b86f7",
   "metadata": {},
   "outputs": [],
   "source": [
    "import numpy as np\n",
    "\n",
    "from utils import prefix_sum_2d"
   ]
  },
  {
   "cell_type": "code",
   "execution_count": 24,
   "id": "83070af1",
   "metadata": {},
   "outputs": [
    {
     "name": "stdout",
     "output_type": "stream",
     "text": [
      "[4 9] [1 3 5 7 9]\n",
      "[[1. 1. 1. 1. 1. 1. 1. 1. 1. 1.]\n",
      " [1. 1. 1. 1. 1. 1. 1. 1. 1. 1.]\n",
      " [1. 1. 1. 1. 1. 1. 1. 1. 1. 1.]\n",
      " [1. 1. 1. 1. 1. 1. 1. 1. 1. 1.]\n",
      " [1. 1. 1. 1. 1. 1. 1. 1. 1. 1.]\n",
      " [1. 1. 1. 1. 1. 1. 1. 1. 1. 1.]\n",
      " [1. 1. 1. 1. 1. 1. 1. 1. 1. 1.]\n",
      " [1. 1. 1. 1. 1. 1. 1. 1. 1. 1.]\n",
      " [1. 1. 1. 1. 1. 1. 1. 1. 1. 1.]\n",
      " [1. 1. 1. 1. 1. 1. 1. 1. 1. 1.]]\n",
      "[[  1.   2.   3.   4.   5.   6.   7.   8.   9.  10.]\n",
      " [  2.   4.   6.   8.  10.  12.  14.  16.  18.  20.]\n",
      " [  3.   6.   9.  12.  15.  18.  21.  24.  27.  30.]\n",
      " [  4.   8.  12.  16.  20.  24.  28.  32.  36.  40.]\n",
      " [  5.  10.  15.  20.  25.  30.  35.  40.  45.  50.]\n",
      " [  6.  12.  18.  24.  30.  36.  42.  48.  54.  60.]\n",
      " [  7.  14.  21.  28.  35.  42.  49.  56.  63.  70.]\n",
      " [  8.  16.  24.  32.  40.  48.  56.  64.  72.  80.]\n",
      " [  9.  18.  27.  36.  45.  54.  63.  72.  81.  90.]\n",
      " [ 10.  20.  30.  40.  50.  60.  70.  80.  90. 100.]]\n"
     ]
    }
   ],
   "source": [
    "np.random.seed(42)\n",
    "d1, d2 = 10, 10\n",
    "# mask = np.random.choice([0, 1], size=(d1,d2), p=[0.7, 0.3])\n",
    "mask = np.ones((d1, d2))\n",
    "mask_prefix_sum = prefix_sum_2d(mask)\n",
    "\n",
    "n, m = 2, 5\n",
    "ni = np.cumsum(mask.shape[0] // n * np.ones(n, dtype=int)) - 1\n",
    "mi =  np.cumsum(mask.shape[1] // m * np.ones(m, dtype=int)) - 1\n",
    "\n",
    "print(ni, mi)\n",
    "print(mask)\n",
    "print(mask_prefix_sum)"
   ]
  },
  {
   "cell_type": "code",
   "execution_count": 25,
   "id": "2b498cde",
   "metadata": {},
   "outputs": [
    {
     "name": "stdout",
     "output_type": "stream",
     "text": [
      "10.0\n",
      "20.0\n",
      "30.0\n",
      "40.0\n",
      "50.0\n",
      "20.0\n",
      "40.0\n",
      "60.0\n",
      "80.0\n",
      "100.0\n"
     ]
    }
   ],
   "source": [
    "for i in range(len(ni)):\n",
    "    for j in range(len(mi)):\n",
    "        print( mask_prefix_sum[ni[i], mi[j]])"
   ]
  },
  {
   "cell_type": "code",
   "execution_count": 9,
   "id": "3dbaff9c",
   "metadata": {},
   "outputs": [
    {
     "data": {
      "text/plain": [
       "5.0"
      ]
     },
     "execution_count": 9,
     "metadata": {},
     "output_type": "execute_result"
    }
   ],
   "source": [
    "ni"
   ]
  },
  {
   "cell_type": "code",
   "execution_count": null,
   "id": "ccc843d8",
   "metadata": {},
   "outputs": [],
   "source": []
  }
 ],
 "metadata": {
  "kernelspec": {
   "display_name": "Python 3 (ipykernel)",
   "language": "python",
   "name": "python3"
  },
  "language_info": {
   "codemirror_mode": {
    "name": "ipython",
    "version": 3
   },
   "file_extension": ".py",
   "mimetype": "text/x-python",
   "name": "python",
   "nbconvert_exporter": "python",
   "pygments_lexer": "ipython3",
   "version": "3.9.6"
  }
 },
 "nbformat": 4,
 "nbformat_minor": 5
}
